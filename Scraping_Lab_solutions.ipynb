{
  "nbformat": 4,
  "nbformat_minor": 0,
  "metadata": {
    "kernelspec": {
      "display_name": "Python 3",
      "language": "python",
      "name": "python3"
    },
    "language_info": {
      "codemirror_mode": {
        "name": "ipython",
        "version": 3
      },
      "file_extension": ".py",
      "mimetype": "text/x-python",
      "name": "python",
      "nbconvert_exporter": "python",
      "pygments_lexer": "ipython3",
      "version": "3.7.6"
    },
    "colab": {
      "name": "Scraping_Lab_solutions.ipynb",
      "provenance": []
    }
  },
  "cells": [
    {
      "cell_type": "markdown",
      "metadata": {
        "id": "J8fG-LvrfD-F"
      },
      "source": [
        "<center>\n",
        "    <img src=\"https://gitlab.com/ibm/skills-network/courses/placeholder101/-/raw/master/labs/module%201/images/IDSNlogo.png\" width=\"300\" alt=\"cognitiveclass.ai logo\"  />\n",
        "</center>\n"
      ]
    },
    {
      "cell_type": "markdown",
      "metadata": {
        "id": "hCe-gK4mfD-i"
      },
      "source": [
        "# **Hands-on Lab : Web Scraping**\n"
      ]
    },
    {
      "cell_type": "markdown",
      "metadata": {
        "id": "WSL0QOMbfD-m"
      },
      "source": [
        "Estimated time needed: **30 to 45** minutes\n"
      ]
    },
    {
      "cell_type": "markdown",
      "metadata": {
        "id": "lwGHnPWvfD-o"
      },
      "source": [
        "## Objectives\n"
      ]
    },
    {
      "cell_type": "markdown",
      "metadata": {
        "id": "hm_vTEOqfD-r"
      },
      "source": [
        "In this lab you will perform the following:\n"
      ]
    },
    {
      "cell_type": "markdown",
      "metadata": {
        "id": "YJq5bOB9fD-u"
      },
      "source": [
        "*   Extract information from a given web site\n",
        "*   Write the scraped data into a csv file.\n"
      ]
    },
    {
      "cell_type": "markdown",
      "metadata": {
        "id": "Iw4-sbwpfD-w"
      },
      "source": [
        "## Extract information from the given web site\n",
        "\n",
        "You will extract the data from the below web site: <br>\n"
      ]
    },
    {
      "cell_type": "code",
      "metadata": {
        "id": "hxEA1hGbfD-2"
      },
      "source": [
        "#this url contains the data you need to scrape\n",
        "url = \"https://cf-courses-data.s3.us.cloud-object-storage.appdomain.cloud/IBM-DA0321EN-SkillsNetwork/labs/datasets/Programming_Languages.html\""
      ],
      "execution_count": 40,
      "outputs": []
    },
    {
      "cell_type": "markdown",
      "metadata": {
        "id": "onqzuUWtfD_A"
      },
      "source": [
        "The data you need to scrape is the **name of the programming language** and **average annual salary**.<br> It is a good idea to open the url in your web broswer and study the contents of the web page before you start to scrape.\n"
      ]
    },
    {
      "cell_type": "markdown",
      "metadata": {
        "id": "r3GRtRTLfD_F"
      },
      "source": [
        "Import the required libraries\n"
      ]
    },
    {
      "cell_type": "code",
      "metadata": {
        "id": "dNFaGr_8fD_I"
      },
      "source": [
        "# Your code here\n",
        "from bs4 import BeautifulSoup # this module helps in web scrapping.\n",
        "import requests  # this module helps us to download a web page"
      ],
      "execution_count": 41,
      "outputs": []
    },
    {
      "cell_type": "markdown",
      "metadata": {
        "id": "pSFiQ4J5fD_J"
      },
      "source": [
        "Download the webpage at the url\n"
      ]
    },
    {
      "cell_type": "code",
      "metadata": {
        "id": "sW_9lGzLfD_L"
      },
      "source": [
        "#your code goes here\n",
        "data  = requests.get(url).text "
      ],
      "execution_count": 42,
      "outputs": []
    },
    {
      "cell_type": "markdown",
      "metadata": {
        "id": "uVy8aUrjfD_N"
      },
      "source": [
        "Create a soup object\n"
      ]
    },
    {
      "cell_type": "code",
      "metadata": {
        "id": "yMI7n_77fD_P"
      },
      "source": [
        "#your code goes here\n",
        "soup = BeautifulSoup(data,\"html5lib\")"
      ],
      "execution_count": 43,
      "outputs": []
    },
    {
      "cell_type": "markdown",
      "metadata": {
        "id": "weAME4lVfD_S"
      },
      "source": [
        "Scrape the `Language name` and `annual average salary`.\n"
      ]
    },
    {
      "cell_type": "code",
      "metadata": {
        "colab": {
          "base_uri": "https://localhost:8080/"
        },
        "id": "lfXi31VJijZR",
        "outputId": "d1e6910d-119c-455d-ac1d-e9ece4bcd71a"
      },
      "source": [
        "soup"
      ],
      "execution_count": 44,
      "outputs": [
        {
          "output_type": "execute_result",
          "data": {
            "text/plain": [
              "<!DOCTYPE html>\n",
              "<html lang=\"en\"><head>\n",
              "<title>\n",
              "Salary survey results of programming languages\n",
              "</title>\n",
              "<style>\n",
              "table, th, td {\n",
              "  border: 1px solid black;\n",
              "}\n",
              "</style>\n",
              "</head>\n",
              "\n",
              "<body>\n",
              "<hr/>\n",
              "<h2>Popular Programming Languages</h2>\n",
              "<hr/>\n",
              "<p>Finding out which is the best language is a tough task. A programming language is created to solve a specific problem. A language which is good for task A may not be able to properly handle task B. Comparing programming language is never easy. What we can do, however, is find which is popular in the industry.</p>\n",
              "<p>There are many ways to find the popularity of a programming languages. Counting the number of google searchs for each language is a simple way to find the popularity. GitHub and StackOverflow also can give some good pointers.</p>\n",
              "<p>Salary surveys are a way to find out the programmings languages that are most in demand in the industry. Below table is the result of one such survey. When using any survey keep in mind that the results vary year on year.</p>\n",
              "<hr/>\n",
              "<table>\n",
              "<tbody>\n",
              "<tr>\n",
              "<td>No.</td>\n",
              "<td>Language</td>\n",
              "<td>Created By</td>\n",
              "<td>Average Annual Salary</td>\n",
              "<td>Learning Difficulty</td>\n",
              "</tr>\n",
              "<tr>\n",
              "<td>1</td>\n",
              "<td>Python</td>\n",
              "<td>Guido van Rossum</td>\n",
              "<td>$114,383</td>\n",
              "<td>Easy</td>\n",
              "</tr>\n",
              "<tr>\n",
              "<td>2</td>\n",
              "<td>Java</td>\n",
              "<td>James Gosling</td>\n",
              "<td>$101,013</td>\n",
              "<td>Easy</td>\n",
              "</tr>\n",
              "<tr>\n",
              "<td>3</td>\n",
              "<td>R</td>\n",
              "<td>Robert Gentleman, Ross Ihaka</td>\n",
              "<td>$92,037</td>\n",
              "<td>Hard</td>\n",
              "</tr>\n",
              "<tr>\n",
              "<td>4</td>\n",
              "<td>Javascript</td>\n",
              "<td>Netscape</td>\n",
              "<td>$110,981</td>\n",
              "<td>Easy</td>\n",
              "</tr>\n",
              "<tr>\n",
              "<td>5</td>\n",
              "<td>Swift</td>\n",
              "<td>Apple</td>\n",
              "<td>$130,801</td>\n",
              "<td>Easy</td>\n",
              "</tr>\n",
              "<tr>\n",
              "<td>6</td>\n",
              "<td>C++</td>\n",
              "<td>Bjarne Stroustrup</td>\n",
              "<td>$113,865</td>\n",
              "<td>Hard</td>\n",
              "</tr>\n",
              "<tr>\n",
              "<td>7</td>\n",
              "<td>C#</td>\n",
              "<td>Microsoft</td>\n",
              "<td>$88,726</td>\n",
              "<td>Hard</td>\n",
              "</tr>\n",
              "<tr>\n",
              "<td>8</td>\n",
              "<td>PHP</td>\n",
              "<td>Rasmus Lerdorf</td>\n",
              "<td>$84,727</td>\n",
              "<td>Easy</td>\n",
              "</tr>\n",
              "<tr>\n",
              "<td>9</td>\n",
              "<td>SQL</td>\n",
              "<td>Donald D. Chamberlin, Raymond F. Boyce.</td>\n",
              "<td>$84,793</td>\n",
              "<td>Easy</td>\n",
              "</tr>\n",
              "<tr>\n",
              "<td>10</td>\n",
              "<td>Go</td>\n",
              "<td>Robert Griesemer, Ken Thompson, Rob Pike.</td>\n",
              "<td>$94,082</td>\n",
              "<td>Difficult</td>\n",
              "</tr>\n",
              "</tbody>\n",
              "</table>\n",
              "<hr/>\n",
              "\n",
              "</body></html>"
            ]
          },
          "metadata": {},
          "execution_count": 44
        }
      ]
    },
    {
      "cell_type": "code",
      "metadata": {
        "colab": {
          "base_uri": "https://localhost:8080/"
        },
        "id": "K2qF-8YxfD_T",
        "outputId": "5831a297-f4c0-47f7-82e2-e559783de37d"
      },
      "source": [
        "#your code goes here\n",
        "table = soup.find(\"table\")\n",
        "popular_language =[]\n",
        "\n",
        "for row in table.find_all('tr'):\n",
        "    cols= row.find_all('td')\n",
        "    language= cols[1].getText()\n",
        "    salary = cols[3].getText()\n",
        "    print((\"{}--->{}\").format(language,salary))\n",
        "    popular_lan=[language,salary]\n",
        "    popular_language.append(popular_lan)\n",
        "    \n",
        "print(popular_language)"
      ],
      "execution_count": 45,
      "outputs": [
        {
          "output_type": "stream",
          "name": "stdout",
          "text": [
            "Language--->Average Annual Salary\n",
            "Python--->$114,383\n",
            "Java--->$101,013\n",
            "R--->$92,037\n",
            "Javascript--->$110,981\n",
            "Swift--->$130,801\n",
            "C++--->$113,865\n",
            "C#--->$88,726\n",
            "PHP--->$84,727\n",
            "SQL--->$84,793\n",
            "Go--->$94,082\n",
            "[['Language', 'Average Annual Salary'], ['Python', '$114,383'], ['Java', '$101,013'], ['R', '$92,037'], ['Javascript', '$110,981'], ['Swift', '$130,801'], ['C++', '$113,865'], ['C#', '$88,726'], ['PHP', '$84,727'], ['SQL', '$84,793'], ['Go', '$94,082']]\n"
          ]
        }
      ]
    },
    {
      "cell_type": "code",
      "metadata": {
        "colab": {
          "base_uri": "https://localhost:8080/",
          "height": 390
        },
        "id": "eY4KbRk6mCKq",
        "outputId": "7e4fbabf-2dfd-4a18-ca4f-622a3af16f3b"
      },
      "source": [
        "popular_language\n",
        "data_csv=pd.DataFrame(popular_language)\n",
        "data_csv"
      ],
      "execution_count": 46,
      "outputs": [
        {
          "output_type": "execute_result",
          "data": {
            "text/html": [
              "<div>\n",
              "<style scoped>\n",
              "    .dataframe tbody tr th:only-of-type {\n",
              "        vertical-align: middle;\n",
              "    }\n",
              "\n",
              "    .dataframe tbody tr th {\n",
              "        vertical-align: top;\n",
              "    }\n",
              "\n",
              "    .dataframe thead th {\n",
              "        text-align: right;\n",
              "    }\n",
              "</style>\n",
              "<table border=\"1\" class=\"dataframe\">\n",
              "  <thead>\n",
              "    <tr style=\"text-align: right;\">\n",
              "      <th></th>\n",
              "      <th>0</th>\n",
              "      <th>1</th>\n",
              "    </tr>\n",
              "  </thead>\n",
              "  <tbody>\n",
              "    <tr>\n",
              "      <th>0</th>\n",
              "      <td>Language</td>\n",
              "      <td>Average Annual Salary</td>\n",
              "    </tr>\n",
              "    <tr>\n",
              "      <th>1</th>\n",
              "      <td>Python</td>\n",
              "      <td>$114,383</td>\n",
              "    </tr>\n",
              "    <tr>\n",
              "      <th>2</th>\n",
              "      <td>Java</td>\n",
              "      <td>$101,013</td>\n",
              "    </tr>\n",
              "    <tr>\n",
              "      <th>3</th>\n",
              "      <td>R</td>\n",
              "      <td>$92,037</td>\n",
              "    </tr>\n",
              "    <tr>\n",
              "      <th>4</th>\n",
              "      <td>Javascript</td>\n",
              "      <td>$110,981</td>\n",
              "    </tr>\n",
              "    <tr>\n",
              "      <th>5</th>\n",
              "      <td>Swift</td>\n",
              "      <td>$130,801</td>\n",
              "    </tr>\n",
              "    <tr>\n",
              "      <th>6</th>\n",
              "      <td>C++</td>\n",
              "      <td>$113,865</td>\n",
              "    </tr>\n",
              "    <tr>\n",
              "      <th>7</th>\n",
              "      <td>C#</td>\n",
              "      <td>$88,726</td>\n",
              "    </tr>\n",
              "    <tr>\n",
              "      <th>8</th>\n",
              "      <td>PHP</td>\n",
              "      <td>$84,727</td>\n",
              "    </tr>\n",
              "    <tr>\n",
              "      <th>9</th>\n",
              "      <td>SQL</td>\n",
              "      <td>$84,793</td>\n",
              "    </tr>\n",
              "    <tr>\n",
              "      <th>10</th>\n",
              "      <td>Go</td>\n",
              "      <td>$94,082</td>\n",
              "    </tr>\n",
              "  </tbody>\n",
              "</table>\n",
              "</div>"
            ],
            "text/plain": [
              "             0                      1\n",
              "0     Language  Average Annual Salary\n",
              "1       Python               $114,383\n",
              "2         Java               $101,013\n",
              "3            R                $92,037\n",
              "4   Javascript               $110,981\n",
              "5        Swift               $130,801\n",
              "6          C++               $113,865\n",
              "7           C#                $88,726\n",
              "8          PHP                $84,727\n",
              "9          SQL                $84,793\n",
              "10          Go                $94,082"
            ]
          },
          "metadata": {},
          "execution_count": 46
        }
      ]
    },
    {
      "cell_type": "markdown",
      "metadata": {
        "id": "nuzQzh3GfD_U"
      },
      "source": [
        "Save the scrapped data into a file named *popular-languages.csv*\n"
      ]
    },
    {
      "cell_type": "code",
      "metadata": {
        "id": "rEaX0fMMnZf7"
      },
      "source": [
        "data_csv.to_csv('popular_languages.csv', index=False)"
      ],
      "execution_count": 51,
      "outputs": []
    },
    {
      "cell_type": "markdown",
      "metadata": {
        "id": "EB6yg8PdoQXO"
      },
      "source": [
        "#another way to do it too"
      ]
    },
    {
      "cell_type": "code",
      "metadata": {
        "colab": {
          "base_uri": "https://localhost:8080/",
          "height": 444
        },
        "id": "RE9AvNxMl1kg",
        "outputId": "05e20841-4aea-4518-8cb6-5fa0300da9b0"
      },
      "source": [
        "import csv\n",
        "with open('popular-languages.csv','w',newline='') as file:\n",
        "    csvwriter = csv.writer(file)\n",
        "    for row in popular_language:\n",
        "        csvwriter.writerow(row)\n",
        "        \n",
        "import pandas as pd\n",
        "df = pd.read_csv('popular-languages.csv')\n",
        "df.head(50)\n",
        "\n",
        "import matplotlib.pyplot as plt\n",
        "import numpy as np\n",
        "\n",
        "perfomance = [130801, 114383,113865,110981,101013,94082,92037,88726,84727,84793]\n",
        "dfs = ['Swift','Python','JAVA','C++','JavaScript','GO','R','C#','SQL','PHP']\n",
        "tks= np.arange(len(dfs))\n",
        "plt.figure(figsize=(16,7))\n",
        "plt.bar(tks, perfomance, align='center',alpha=0.5)\n",
        "plt.xticks(tks,dfs)\n",
        "plt.title('Programming Language')\n",
        "plt.show()"
      ],
      "execution_count": 48,
      "outputs": [
        {
          "output_type": "display_data",
          "data": {
            "image/png": "[encoded data removed]",
            "text/plain": [
              "<Figure size 1152x504 with 1 Axes>"
            ]
          },
          "metadata": {
            "needs_background": "light"
          }
        }
      ]
    },
    {
      "cell_type": "markdown",
      "metadata": {
        "id": "QeL0PWKofD_X"
      },
      "source": [
        "## Authors\n"
      ]
    },
    {
      "cell_type": "markdown",
      "metadata": {
        "id": "Sc1jblUFfD_Z"
      },
      "source": [
        "Ramesh Sannareddy\n"
      ]
    },
    {
      "cell_type": "markdown",
      "metadata": {
        "id": "faUoK7r7fD_a"
      },
      "source": [
        "### Other Contributors\n"
      ]
    },
    {
      "cell_type": "markdown",
      "metadata": {
        "id": "YmXWiX8TfD_b"
      },
      "source": [
        "Rav Ahuja\n"
      ]
    },
    {
      "cell_type": "markdown",
      "metadata": {
        "id": "_yUAaGoefD_d"
      },
      "source": [
        "## Change Log\n"
      ]
    },
    {
      "cell_type": "markdown",
      "metadata": {
        "id": "RNypW4KWfD_e"
      },
      "source": [
        "| Date (YYYY-MM-DD) | Version | Changed By        | Change Description                 |\n",
        "| ----------------- | ------- | ----------------- | ---------------------------------- |\n",
        "| 2020-10-17        | 0.1     | Ramesh Sannareddy | Created initial version of the lab |\n"
      ]
    },
    {
      "cell_type": "markdown",
      "metadata": {
        "id": "HFMCIZksfD_g"
      },
      "source": [
        "Copyright © 2020 IBM Corporation. This notebook and its source code are released under the terms of the [MIT License](https://cognitiveclass.ai/mit-license/?utm_medium=Exinfluencer\\&utm_source=Exinfluencer\\&utm_content=000026UJ\\&utm_term=10006555\\&utm_id=NA-SkillsNetwork-Channel-SkillsNetworkCoursesIBMDA0321ENSkillsNetwork21426264-2021-01-01).\n"
      ]
    }
  ]
}