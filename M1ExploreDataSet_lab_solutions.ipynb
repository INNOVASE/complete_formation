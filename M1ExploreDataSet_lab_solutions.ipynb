{
  "nbformat": 4,
  "nbformat_minor": 0,
  "metadata": {
    "kernelspec": {
      "display_name": "Python 3",
      "language": "python",
      "name": "python3"
    },
    "language_info": {
      "codemirror_mode": {
        "name": "ipython",
        "version": 3
      },
      "file_extension": ".py",
      "mimetype": "text/x-python",
      "name": "python",
      "nbconvert_exporter": "python",
      "pygments_lexer": "ipython3",
      "version": "3.7.6"
    },
    "colab": {
      "name": "M1ExploreDataSet_lab_solutions.ipynb",
      "provenance": []
    }
  },
  "cells": [
    {
      "cell_type": "markdown",
      "metadata": {
        "id": "MTUTB2s7fRJe"
      },
      "source": [
        "<center>\n",
        "    <img src=\"https://gitlab.com/ibm/skills-network/courses/placeholder101/-/raw/master/labs/module%201/images/IDSNlogo.png\" width=\"300\" alt=\"cognitiveclass.ai logo\"  />\n",
        "</center>\n"
      ]
    },
    {
      "cell_type": "markdown",
      "metadata": {
        "id": "y0A2uAqWfRKu"
      },
      "source": [
        "# **Survey Dataset Exploration Lab**\n"
      ]
    },
    {
      "cell_type": "markdown",
      "metadata": {
        "id": "knYoR9JNfRK0"
      },
      "source": [
        "Estimated time needed: **30** minutes\n"
      ]
    },
    {
      "cell_type": "markdown",
      "metadata": {
        "id": "1jlFF4xsfRK5"
      },
      "source": [
        "## Objectives\n"
      ]
    },
    {
      "cell_type": "markdown",
      "metadata": {
        "id": "HtW8dSprfRLl"
      },
      "source": [
        "After completing this lab you will be able to:\n"
      ]
    },
    {
      "cell_type": "markdown",
      "metadata": {
        "id": "qe7AmIDsfRLp"
      },
      "source": [
        "*   Load the dataset that will used thru the capstone project.\n",
        "*   Explore the dataset.\n",
        "*   Get familier with the data types.\n"
      ]
    },
    {
      "cell_type": "markdown",
      "metadata": {
        "id": "JTv9w2GBfRLu"
      },
      "source": [
        "## Load the dataset\n"
      ]
    },
    {
      "cell_type": "markdown",
      "metadata": {
        "id": "bwEwlroTfRL0"
      },
      "source": [
        "Import the required libraries.\n"
      ]
    },
    {
      "cell_type": "code",
      "metadata": {
        "id": "egYjfCRFfRL6"
      },
      "source": [
        "import pandas as pd"
      ],
      "execution_count": 10,
      "outputs": []
    },
    {
      "cell_type": "markdown",
      "metadata": {
        "id": "MGweGxOZfRM1"
      },
      "source": [
        "The dataset is available on the IBM Cloud at the below url.\n"
      ]
    },
    {
      "cell_type": "code",
      "metadata": {
        "id": "ueDNqi1zfRM5"
      },
      "source": [
        "dataset_url = \"https://cf-courses-data.s3.us.cloud-object-storage.appdomain.cloud/IBM-DA0321EN-SkillsNetwork/LargeData/m1_survey_data.csv\""
      ],
      "execution_count": 11,
      "outputs": []
    },
    {
      "cell_type": "markdown",
      "metadata": {
        "id": "azaF0zelfRM8"
      },
      "source": [
        "Load the data available at dataset_url into a dataframe.\n"
      ]
    },
    {
      "cell_type": "code",
      "metadata": {
        "id": "Vg1K3HxbfRND"
      },
      "source": [
        "# your code goes here\n",
        "df = pd.read_csv(dataset_url)"
      ],
      "execution_count": 12,
      "outputs": []
    },
    {
      "cell_type": "markdown",
      "metadata": {
        "id": "W_Yl5d2zfRNH"
      },
      "source": [
        "## Explore the data set\n"
      ]
    },
    {
      "cell_type": "markdown",
      "metadata": {
        "id": "IYUpSIuyfRNL"
      },
      "source": [
        "It is a good idea to print the top 5 rows of the dataset to get a feel of how the dataset will look.\n"
      ]
    },
    {
      "cell_type": "markdown",
      "metadata": {
        "id": "QkGnLIWFfRNR"
      },
      "source": [
        "Display the top 5 rows and columns from your dataset.\n"
      ]
    },
    {
      "cell_type": "code",
      "metadata": {
        "colab": {
          "base_uri": "https://localhost:8080/",
          "height": 780
        },
        "id": "Qi2AkvRUfRNT",
        "outputId": "e8eb8431-f048-495b-caf8-f77e117d072a"
      },
      "source": [
        "# your code goes here\n",
        "df.head()"
      ],
      "execution_count": 19,
      "outputs": [
        {
          "output_type": "execute_result",
          "data": {
            "text/html": [
              "<div>\n",
              "<style scoped>\n",
              "    .dataframe tbody tr th:only-of-type {\n",
              "        vertical-align: middle;\n",
              "    }\n",
              "\n",
              "    .dataframe tbody tr th {\n",
              "        vertical-align: top;\n",
              "    }\n",
              "\n",
              "    .dataframe thead th {\n",
              "        text-align: right;\n",
              "    }\n",
              "</style>\n",
              "<table border=\"1\" class=\"dataframe\">\n",
              "  <thead>\n",
              "    <tr style=\"text-align: right;\">\n",
              "      <th></th>\n",
              "      <th>Respondent</th>\n",
              "      <th>MainBranch</th>\n",
              "      <th>Hobbyist</th>\n",
              "      <th>OpenSourcer</th>\n",
              "      <th>OpenSource</th>\n",
              "      <th>Employment</th>\n",
              "      <th>Country</th>\n",
              "      <th>Student</th>\n",
              "      <th>EdLevel</th>\n",
              "      <th>UndergradMajor</th>\n",
              "      <th>EduOther</th>\n",
              "      <th>OrgSize</th>\n",
              "      <th>DevType</th>\n",
              "      <th>YearsCode</th>\n",
              "      <th>Age1stCode</th>\n",
              "      <th>YearsCodePro</th>\n",
              "      <th>CareerSat</th>\n",
              "      <th>JobSat</th>\n",
              "      <th>MgrIdiot</th>\n",
              "      <th>MgrMoney</th>\n",
              "      <th>MgrWant</th>\n",
              "      <th>JobSeek</th>\n",
              "      <th>LastHireDate</th>\n",
              "      <th>LastInt</th>\n",
              "      <th>FizzBuzz</th>\n",
              "      <th>JobFactors</th>\n",
              "      <th>ResumeUpdate</th>\n",
              "      <th>CurrencySymbol</th>\n",
              "      <th>CurrencyDesc</th>\n",
              "      <th>CompTotal</th>\n",
              "      <th>CompFreq</th>\n",
              "      <th>ConvertedComp</th>\n",
              "      <th>WorkWeekHrs</th>\n",
              "      <th>WorkPlan</th>\n",
              "      <th>WorkChallenge</th>\n",
              "      <th>WorkRemote</th>\n",
              "      <th>WorkLoc</th>\n",
              "      <th>ImpSyn</th>\n",
              "      <th>CodeRev</th>\n",
              "      <th>CodeRevHrs</th>\n",
              "      <th>...</th>\n",
              "      <th>DatabaseWorkedWith</th>\n",
              "      <th>DatabaseDesireNextYear</th>\n",
              "      <th>PlatformWorkedWith</th>\n",
              "      <th>PlatformDesireNextYear</th>\n",
              "      <th>WebFrameWorkedWith</th>\n",
              "      <th>WebFrameDesireNextYear</th>\n",
              "      <th>MiscTechWorkedWith</th>\n",
              "      <th>MiscTechDesireNextYear</th>\n",
              "      <th>DevEnviron</th>\n",
              "      <th>OpSys</th>\n",
              "      <th>Containers</th>\n",
              "      <th>BlockchainOrg</th>\n",
              "      <th>BlockchainIs</th>\n",
              "      <th>BetterLife</th>\n",
              "      <th>ITperson</th>\n",
              "      <th>OffOn</th>\n",
              "      <th>SocialMedia</th>\n",
              "      <th>Extraversion</th>\n",
              "      <th>ScreenName</th>\n",
              "      <th>SOVisit1st</th>\n",
              "      <th>SOVisitFreq</th>\n",
              "      <th>SOVisitTo</th>\n",
              "      <th>SOFindAnswer</th>\n",
              "      <th>SOTimeSaved</th>\n",
              "      <th>SOHowMuchTime</th>\n",
              "      <th>SOAccount</th>\n",
              "      <th>SOPartFreq</th>\n",
              "      <th>SOJobs</th>\n",
              "      <th>EntTeams</th>\n",
              "      <th>SOComm</th>\n",
              "      <th>WelcomeChange</th>\n",
              "      <th>SONewContent</th>\n",
              "      <th>Age</th>\n",
              "      <th>Gender</th>\n",
              "      <th>Trans</th>\n",
              "      <th>Sexuality</th>\n",
              "      <th>Ethnicity</th>\n",
              "      <th>Dependents</th>\n",
              "      <th>SurveyLength</th>\n",
              "      <th>SurveyEase</th>\n",
              "    </tr>\n",
              "  </thead>\n",
              "  <tbody>\n",
              "    <tr>\n",
              "      <th>0</th>\n",
              "      <td>4</td>\n",
              "      <td>I am a developer by profession</td>\n",
              "      <td>No</td>\n",
              "      <td>Never</td>\n",
              "      <td>The quality of OSS and closed source software ...</td>\n",
              "      <td>Employed full-time</td>\n",
              "      <td>United States</td>\n",
              "      <td>No</td>\n",
              "      <td>Bachelor’s degree (BA, BS, B.Eng., etc.)</td>\n",
              "      <td>Computer science, computer engineering, or sof...</td>\n",
              "      <td>Taken an online course in programming or softw...</td>\n",
              "      <td>100 to 499 employees</td>\n",
              "      <td>Developer, full-stack</td>\n",
              "      <td>3</td>\n",
              "      <td>16</td>\n",
              "      <td>Less than 1 year</td>\n",
              "      <td>Very satisfied</td>\n",
              "      <td>Slightly satisfied</td>\n",
              "      <td>Very confident</td>\n",
              "      <td>No</td>\n",
              "      <td>Not sure</td>\n",
              "      <td>I am not interested in new job opportunities</td>\n",
              "      <td>Less than a year ago</td>\n",
              "      <td>Write code by hand (e.g., on a whiteboard);Int...</td>\n",
              "      <td>No</td>\n",
              "      <td>Languages, frameworks, and other technologies ...</td>\n",
              "      <td>I was preparing for a job search</td>\n",
              "      <td>USD</td>\n",
              "      <td>United States dollar</td>\n",
              "      <td>61000.0</td>\n",
              "      <td>Yearly</td>\n",
              "      <td>61000.0</td>\n",
              "      <td>80.0</td>\n",
              "      <td>There's no schedule or spec; I work on what se...</td>\n",
              "      <td>NaN</td>\n",
              "      <td>Less than once per month / Never</td>\n",
              "      <td>Home</td>\n",
              "      <td>A little below average</td>\n",
              "      <td>No</td>\n",
              "      <td>NaN</td>\n",
              "      <td>...</td>\n",
              "      <td>MySQL;SQLite</td>\n",
              "      <td>MySQL;SQLite</td>\n",
              "      <td>Linux;Windows</td>\n",
              "      <td>Linux;Windows</td>\n",
              "      <td>NaN</td>\n",
              "      <td>NaN</td>\n",
              "      <td>.NET</td>\n",
              "      <td>.NET</td>\n",
              "      <td>Eclipse;Vim;Visual Studio;Visual Studio Code</td>\n",
              "      <td>Windows</td>\n",
              "      <td>I do not use containers</td>\n",
              "      <td>Not at all</td>\n",
              "      <td>Useful for decentralized currency (i.e., Bitcoin)</td>\n",
              "      <td>Yes</td>\n",
              "      <td>SIGH</td>\n",
              "      <td>Yes</td>\n",
              "      <td>Reddit</td>\n",
              "      <td>In real life (in person)</td>\n",
              "      <td>Username</td>\n",
              "      <td>2014</td>\n",
              "      <td>Daily or almost daily</td>\n",
              "      <td>Find answers to specific questions;Pass the ti...</td>\n",
              "      <td>1-2 times per week</td>\n",
              "      <td>Stack Overflow was much faster</td>\n",
              "      <td>31-60 minutes</td>\n",
              "      <td>Yes</td>\n",
              "      <td>Less than once per month or monthly</td>\n",
              "      <td>Yes</td>\n",
              "      <td>No, and I don't know what those are</td>\n",
              "      <td>No, not really</td>\n",
              "      <td>Just as welcome now as I felt last year</td>\n",
              "      <td>Tech articles written by other developers;Indu...</td>\n",
              "      <td>22.0</td>\n",
              "      <td>Man</td>\n",
              "      <td>No</td>\n",
              "      <td>Straight / Heterosexual</td>\n",
              "      <td>White or of European descent</td>\n",
              "      <td>No</td>\n",
              "      <td>Appropriate in length</td>\n",
              "      <td>Easy</td>\n",
              "    </tr>\n",
              "    <tr>\n",
              "      <th>1</th>\n",
              "      <td>9</td>\n",
              "      <td>I am a developer by profession</td>\n",
              "      <td>Yes</td>\n",
              "      <td>Once a month or more often</td>\n",
              "      <td>The quality of OSS and closed source software ...</td>\n",
              "      <td>Employed full-time</td>\n",
              "      <td>New Zealand</td>\n",
              "      <td>No</td>\n",
              "      <td>Some college/university study without earning ...</td>\n",
              "      <td>Computer science, computer engineering, or sof...</td>\n",
              "      <td>Taken an online course in programming or softw...</td>\n",
              "      <td>10 to 19 employees</td>\n",
              "      <td>Database administrator;Developer, back-end;Dev...</td>\n",
              "      <td>12</td>\n",
              "      <td>11</td>\n",
              "      <td>4</td>\n",
              "      <td>Slightly satisfied</td>\n",
              "      <td>Slightly satisfied</td>\n",
              "      <td>Somewhat confident</td>\n",
              "      <td>No</td>\n",
              "      <td>Not sure</td>\n",
              "      <td>I’m not actively looking, but I am open to new...</td>\n",
              "      <td>Less than a year ago</td>\n",
              "      <td>Write any code;Interview with people in peer r...</td>\n",
              "      <td>Yes</td>\n",
              "      <td>Financial performance or funding status of the...</td>\n",
              "      <td>I was preparing for a job search</td>\n",
              "      <td>NZD</td>\n",
              "      <td>New Zealand dollar</td>\n",
              "      <td>138000.0</td>\n",
              "      <td>Yearly</td>\n",
              "      <td>95179.0</td>\n",
              "      <td>32.0</td>\n",
              "      <td>There is a schedule and/or spec (made by me or...</td>\n",
              "      <td>Being tasked with non-development work;Inadequ...</td>\n",
              "      <td>Less than once per month / Never</td>\n",
              "      <td>Office</td>\n",
              "      <td>A little above average</td>\n",
              "      <td>Yes, because I see value in code review</td>\n",
              "      <td>12.0</td>\n",
              "      <td>...</td>\n",
              "      <td>DynamoDB;PostgreSQL;SQLite</td>\n",
              "      <td>PostgreSQL;Redis;SQLite</td>\n",
              "      <td>AWS;Docker;Heroku;Linux;MacOS;Slack</td>\n",
              "      <td>AWS;Docker;Heroku;Linux;MacOS;Slack;Other(s):</td>\n",
              "      <td>Express;Ruby on Rails;Other(s):</td>\n",
              "      <td>Express;Ruby on Rails;Other(s):</td>\n",
              "      <td>Node.js;Unity 3D</td>\n",
              "      <td>Node.js</td>\n",
              "      <td>Vim</td>\n",
              "      <td>MacOS</td>\n",
              "      <td>Development;Testing;Production</td>\n",
              "      <td>Not at all</td>\n",
              "      <td>An irresponsible use of resources</td>\n",
              "      <td>No</td>\n",
              "      <td>SIGH</td>\n",
              "      <td>Yes</td>\n",
              "      <td>Twitter</td>\n",
              "      <td>In real life (in person)</td>\n",
              "      <td>Username</td>\n",
              "      <td>2013</td>\n",
              "      <td>Daily or almost daily</td>\n",
              "      <td>Find answers to specific questions;Contribute ...</td>\n",
              "      <td>3-5 times per week</td>\n",
              "      <td>They were about the same</td>\n",
              "      <td>NaN</td>\n",
              "      <td>Yes</td>\n",
              "      <td>Less than once per month or monthly</td>\n",
              "      <td>No, I knew that Stack Overflow had a job board...</td>\n",
              "      <td>No, and I don't know what those are</td>\n",
              "      <td>Yes, somewhat</td>\n",
              "      <td>Just as welcome now as I felt last year</td>\n",
              "      <td>NaN</td>\n",
              "      <td>23.0</td>\n",
              "      <td>Man</td>\n",
              "      <td>No</td>\n",
              "      <td>Bisexual</td>\n",
              "      <td>White or of European descent</td>\n",
              "      <td>No</td>\n",
              "      <td>Appropriate in length</td>\n",
              "      <td>Neither easy nor difficult</td>\n",
              "    </tr>\n",
              "    <tr>\n",
              "      <th>2</th>\n",
              "      <td>13</td>\n",
              "      <td>I am a developer by profession</td>\n",
              "      <td>Yes</td>\n",
              "      <td>Less than once a month but more than once per ...</td>\n",
              "      <td>OSS is, on average, of HIGHER quality than pro...</td>\n",
              "      <td>Employed full-time</td>\n",
              "      <td>United States</td>\n",
              "      <td>No</td>\n",
              "      <td>Master’s degree (MA, MS, M.Eng., MBA, etc.)</td>\n",
              "      <td>Computer science, computer engineering, or sof...</td>\n",
              "      <td>Taken an online course in programming or softw...</td>\n",
              "      <td>10 to 19 employees</td>\n",
              "      <td>Data or business analyst;Database administrato...</td>\n",
              "      <td>17</td>\n",
              "      <td>11</td>\n",
              "      <td>8</td>\n",
              "      <td>Very satisfied</td>\n",
              "      <td>Very satisfied</td>\n",
              "      <td>NaN</td>\n",
              "      <td>NaN</td>\n",
              "      <td>NaN</td>\n",
              "      <td>I am not interested in new job opportunities</td>\n",
              "      <td>3-4 years ago</td>\n",
              "      <td>Complete a take-home project;Interview with pe...</td>\n",
              "      <td>Yes</td>\n",
              "      <td>Languages, frameworks, and other technologies ...</td>\n",
              "      <td>I was preparing for a job search</td>\n",
              "      <td>USD</td>\n",
              "      <td>United States dollar</td>\n",
              "      <td>90000.0</td>\n",
              "      <td>Yearly</td>\n",
              "      <td>90000.0</td>\n",
              "      <td>40.0</td>\n",
              "      <td>There is a schedule and/or spec (made by me or...</td>\n",
              "      <td>Meetings;Non-work commitments (parenting, scho...</td>\n",
              "      <td>All or almost all the time (I'm full-time remote)</td>\n",
              "      <td>Home</td>\n",
              "      <td>A little above average</td>\n",
              "      <td>Yes, because I see value in code review</td>\n",
              "      <td>5.0</td>\n",
              "      <td>...</td>\n",
              "      <td>Couchbase;DynamoDB;Firebase;MySQL</td>\n",
              "      <td>Firebase;MySQL;Redis</td>\n",
              "      <td>Android;AWS;Docker;IBM Cloud or Watson;iOS;Lin...</td>\n",
              "      <td>Android;AWS;Docker;IBM Cloud or Watson;Linux;S...</td>\n",
              "      <td>Angular/Angular.js;ASP.NET;Express;jQuery;Vue.js</td>\n",
              "      <td>Express;Vue.js</td>\n",
              "      <td>Node.js;Xamarin</td>\n",
              "      <td>Node.js;TensorFlow</td>\n",
              "      <td>Vim;Visual Studio;Visual Studio Code;Xcode</td>\n",
              "      <td>Windows</td>\n",
              "      <td>Development;Testing;Production</td>\n",
              "      <td>Not at all</td>\n",
              "      <td>Useful for decentralized currency (i.e., Bitcoin)</td>\n",
              "      <td>Yes</td>\n",
              "      <td>Yes</td>\n",
              "      <td>Yes</td>\n",
              "      <td>Twitter</td>\n",
              "      <td>In real life (in person)</td>\n",
              "      <td>Username</td>\n",
              "      <td>2011</td>\n",
              "      <td>Multiple times per day</td>\n",
              "      <td>Find answers to specific questions</td>\n",
              "      <td>More than 10 times per week</td>\n",
              "      <td>Stack Overflow was much faster</td>\n",
              "      <td>11-30 minutes</td>\n",
              "      <td>Yes</td>\n",
              "      <td>Less than once per month or monthly</td>\n",
              "      <td>Yes</td>\n",
              "      <td>No, I've heard of them, but I am not part of a...</td>\n",
              "      <td>Neutral</td>\n",
              "      <td>Somewhat more welcome now than last year</td>\n",
              "      <td>Tech articles written by other developers;Cour...</td>\n",
              "      <td>28.0</td>\n",
              "      <td>Man</td>\n",
              "      <td>No</td>\n",
              "      <td>Straight / Heterosexual</td>\n",
              "      <td>White or of European descent</td>\n",
              "      <td>Yes</td>\n",
              "      <td>Appropriate in length</td>\n",
              "      <td>Easy</td>\n",
              "    </tr>\n",
              "    <tr>\n",
              "      <th>3</th>\n",
              "      <td>16</td>\n",
              "      <td>I am a developer by profession</td>\n",
              "      <td>Yes</td>\n",
              "      <td>Never</td>\n",
              "      <td>The quality of OSS and closed source software ...</td>\n",
              "      <td>Employed full-time</td>\n",
              "      <td>United Kingdom</td>\n",
              "      <td>No</td>\n",
              "      <td>Master’s degree (MA, MS, M.Eng., MBA, etc.)</td>\n",
              "      <td>NaN</td>\n",
              "      <td>Taken an online course in programming or softw...</td>\n",
              "      <td>100 to 499 employees</td>\n",
              "      <td>Developer, full-stack</td>\n",
              "      <td>10</td>\n",
              "      <td>17</td>\n",
              "      <td>3</td>\n",
              "      <td>Very satisfied</td>\n",
              "      <td>Slightly satisfied</td>\n",
              "      <td>Somewhat confident</td>\n",
              "      <td>No</td>\n",
              "      <td>No</td>\n",
              "      <td>I’m not actively looking, but I am open to new...</td>\n",
              "      <td>3-4 years ago</td>\n",
              "      <td>Interview with people in senior / management r...</td>\n",
              "      <td>Yes</td>\n",
              "      <td>Languages, frameworks, and other technologies ...</td>\n",
              "      <td>I heard about a job opportunity (from a recrui...</td>\n",
              "      <td>GBP</td>\n",
              "      <td>Pound sterling</td>\n",
              "      <td>29000.0</td>\n",
              "      <td>Monthly</td>\n",
              "      <td>455352.0</td>\n",
              "      <td>40.0</td>\n",
              "      <td>There is a schedule and/or spec (made by me or...</td>\n",
              "      <td>Being tasked with non-development work;Distrac...</td>\n",
              "      <td>A few days each month</td>\n",
              "      <td>Home</td>\n",
              "      <td>Average</td>\n",
              "      <td>No</td>\n",
              "      <td>NaN</td>\n",
              "      <td>...</td>\n",
              "      <td>MongoDB;Microsoft SQL Server;MySQL</td>\n",
              "      <td>Elasticsearch;MongoDB;Microsoft SQL Server;SQLite</td>\n",
              "      <td>NaN</td>\n",
              "      <td>AWS;Google Cloud Platform;Microsoft Azure</td>\n",
              "      <td>Angular/Angular.js;ASP.NET;jQuery</td>\n",
              "      <td>Angular/Angular.js;ASP.NET;React.js</td>\n",
              "      <td>.NET;.NET Core;Node.js</td>\n",
              "      <td>.NET Core;Node.js;React Native</td>\n",
              "      <td>Visual Studio;Visual Studio Code</td>\n",
              "      <td>Windows</td>\n",
              "      <td>I do not use containers</td>\n",
              "      <td>Not at all</td>\n",
              "      <td>A passing fad</td>\n",
              "      <td>No</td>\n",
              "      <td>SIGH</td>\n",
              "      <td>No</td>\n",
              "      <td>YouTube</td>\n",
              "      <td>Online</td>\n",
              "      <td>Username</td>\n",
              "      <td>2010</td>\n",
              "      <td>Multiple times per day</td>\n",
              "      <td>Find answers to specific questions;Learn how t...</td>\n",
              "      <td>Less than once per week</td>\n",
              "      <td>Stack Overflow was much faster</td>\n",
              "      <td>11-30 minutes</td>\n",
              "      <td>Yes</td>\n",
              "      <td>Less than once per month or monthly</td>\n",
              "      <td>Yes</td>\n",
              "      <td>No, I've heard of them, but I am not part of a...</td>\n",
              "      <td>Yes, somewhat</td>\n",
              "      <td>Just as welcome now as I felt last year</td>\n",
              "      <td>Tech articles written by other developers;Indu...</td>\n",
              "      <td>26.0</td>\n",
              "      <td>Man</td>\n",
              "      <td>No</td>\n",
              "      <td>Straight / Heterosexual</td>\n",
              "      <td>White or of European descent</td>\n",
              "      <td>No</td>\n",
              "      <td>Appropriate in length</td>\n",
              "      <td>Neither easy nor difficult</td>\n",
              "    </tr>\n",
              "    <tr>\n",
              "      <th>4</th>\n",
              "      <td>17</td>\n",
              "      <td>I am a developer by profession</td>\n",
              "      <td>Yes</td>\n",
              "      <td>Less than once a month but more than once per ...</td>\n",
              "      <td>The quality of OSS and closed source software ...</td>\n",
              "      <td>Employed full-time</td>\n",
              "      <td>Australia</td>\n",
              "      <td>No</td>\n",
              "      <td>Bachelor’s degree (BA, BS, B.Eng., etc.)</td>\n",
              "      <td>Computer science, computer engineering, or sof...</td>\n",
              "      <td>Taken an online course in programming or softw...</td>\n",
              "      <td>20 to 99 employees</td>\n",
              "      <td>Developer, back-end;Developer, front-end;Devel...</td>\n",
              "      <td>5</td>\n",
              "      <td>18</td>\n",
              "      <td>2</td>\n",
              "      <td>Slightly satisfied</td>\n",
              "      <td>Neither satisfied nor dissatisfied</td>\n",
              "      <td>Somewhat confident</td>\n",
              "      <td>No</td>\n",
              "      <td>No</td>\n",
              "      <td>I am actively looking for a job</td>\n",
              "      <td>Less than a year ago</td>\n",
              "      <td>Complete a take-home project;Interview with pe...</td>\n",
              "      <td>No</td>\n",
              "      <td>Languages, frameworks, and other technologies ...</td>\n",
              "      <td>I was preparing for a job search</td>\n",
              "      <td>AUD</td>\n",
              "      <td>Australian dollar</td>\n",
              "      <td>90000.0</td>\n",
              "      <td>Yearly</td>\n",
              "      <td>65277.0</td>\n",
              "      <td>45.0</td>\n",
              "      <td>There's no schedule or spec; I work on what se...</td>\n",
              "      <td>Distracting work environment;Meetings;Time spe...</td>\n",
              "      <td>A few days each month</td>\n",
              "      <td>Other place, such as a coworking space or cafe</td>\n",
              "      <td>A little above average</td>\n",
              "      <td>Yes, because I see value in code review</td>\n",
              "      <td>5.0</td>\n",
              "      <td>...</td>\n",
              "      <td>MongoDB;PostgreSQL</td>\n",
              "      <td>Elasticsearch;Firebase;MongoDB;PostgreSQL</td>\n",
              "      <td>Arduino;Docker;Heroku;Raspberry Pi;WordPress</td>\n",
              "      <td>Docker</td>\n",
              "      <td>Angular/Angular.js;Express;Spring</td>\n",
              "      <td>Angular/Angular.js;Express;React.js;Spring;Vue.js</td>\n",
              "      <td>Node.js</td>\n",
              "      <td>Node.js;React Native</td>\n",
              "      <td>IntelliJ;Visual Studio Code</td>\n",
              "      <td>Linux-based</td>\n",
              "      <td>Development;Testing;Production;Outside of work...</td>\n",
              "      <td>Not at all</td>\n",
              "      <td>A passing fad</td>\n",
              "      <td>Yes</td>\n",
              "      <td>Fortunately, someone else has that title</td>\n",
              "      <td>What?</td>\n",
              "      <td>YouTube</td>\n",
              "      <td>In real life (in person)</td>\n",
              "      <td>NaN</td>\n",
              "      <td>2014</td>\n",
              "      <td>Daily or almost daily</td>\n",
              "      <td>Find answers to specific questions;Learn how t...</td>\n",
              "      <td>6-10 times per week</td>\n",
              "      <td>Stack Overflow was slightly faster</td>\n",
              "      <td>0-10 minutes</td>\n",
              "      <td>Yes</td>\n",
              "      <td>A few times per week</td>\n",
              "      <td>No, I didn't know that Stack Overflow had a jo...</td>\n",
              "      <td>No, I've heard of them, but I am not part of a...</td>\n",
              "      <td>Yes, somewhat</td>\n",
              "      <td>Just as welcome now as I felt last year</td>\n",
              "      <td>Tech articles written by other developers;Indu...</td>\n",
              "      <td>29.0</td>\n",
              "      <td>Man</td>\n",
              "      <td>No</td>\n",
              "      <td>Straight / Heterosexual</td>\n",
              "      <td>Hispanic or Latino/Latina;Multiracial</td>\n",
              "      <td>No</td>\n",
              "      <td>Appropriate in length</td>\n",
              "      <td>Easy</td>\n",
              "    </tr>\n",
              "  </tbody>\n",
              "</table>\n",
              "<p>5 rows × 85 columns</p>\n",
              "</div>"
            ],
            "text/plain": [
              "   Respondent  ...                  SurveyEase\n",
              "0           4  ...                        Easy\n",
              "1           9  ...  Neither easy nor difficult\n",
              "2          13  ...                        Easy\n",
              "3          16  ...  Neither easy nor difficult\n",
              "4          17  ...                        Easy\n",
              "\n",
              "[5 rows x 85 columns]"
            ]
          },
          "metadata": {},
          "execution_count": 19
        }
      ]
    },
    {
      "cell_type": "markdown",
      "metadata": {
        "id": "ZshNt20WfRNV"
      },
      "source": [
        "## Find out the number of rows and columns\n"
      ]
    },
    {
      "cell_type": "markdown",
      "metadata": {
        "id": "U1A4rTTufRNX"
      },
      "source": [
        "Start by exploring the numbers of rows and columns of data in the dataset.\n"
      ]
    },
    {
      "cell_type": "markdown",
      "metadata": {
        "id": "dnaYu1iffRNa"
      },
      "source": [
        "Print the number of rows in the dataset.\n"
      ]
    },
    {
      "cell_type": "code",
      "metadata": {
        "colab": {
          "base_uri": "https://localhost:8080/"
        },
        "id": "cIy7HjxVfROF",
        "outputId": "4ef7a1ba-9ebb-4da1-e639-c9e189cf2197"
      },
      "source": [
        "# your code goes here\n",
        "num_row = df.shape[0]\n",
        "print(num_row)"
      ],
      "execution_count": 23,
      "outputs": [
        {
          "output_type": "stream",
          "name": "stdout",
          "text": [
            "11552\n"
          ]
        }
      ]
    },
    {
      "cell_type": "markdown",
      "metadata": {
        "id": "vsOHfkAefROJ"
      },
      "source": [
        "Print the number of columns in the dataset.\n"
      ]
    },
    {
      "cell_type": "code",
      "metadata": {
        "colab": {
          "base_uri": "https://localhost:8080/"
        },
        "id": "Ot-GQ3KBfROL",
        "outputId": "c3766617-22a2-45cb-8bfd-acc097d230e3"
      },
      "source": [
        "# your code goes here\n",
        "num_columns=df.shape[1]\n",
        "names_columns=df.columns\n",
        "print(num_columns)"
      ],
      "execution_count": 31,
      "outputs": [
        {
          "output_type": "stream",
          "name": "stdout",
          "text": [
            "85\n"
          ]
        }
      ]
    },
    {
      "cell_type": "markdown",
      "metadata": {
        "id": "tnTl4oUGfROO"
      },
      "source": [
        "## Identify the data types of each column\n"
      ]
    },
    {
      "cell_type": "markdown",
      "metadata": {
        "id": "yOX94TbcfROQ"
      },
      "source": [
        "Explore the dataset and identify the data types of each column.\n"
      ]
    },
    {
      "cell_type": "markdown",
      "metadata": {
        "id": "txpFKdejfROU"
      },
      "source": [
        "Print the datatype of all columns.\n"
      ]
    },
    {
      "cell_type": "code",
      "metadata": {
        "colab": {
          "base_uri": "https://localhost:8080/"
        },
        "id": "jnhQsrMMfROW",
        "outputId": "0c238224-5ea7-484f-c75e-5b92fd288535"
      },
      "source": [
        "# your code goes here\n",
        "df.dtypes"
      ],
      "execution_count": 32,
      "outputs": [
        {
          "output_type": "execute_result",
          "data": {
            "text/plain": [
              "Respondent       int64\n",
              "MainBranch      object\n",
              "Hobbyist        object\n",
              "OpenSourcer     object\n",
              "OpenSource      object\n",
              "                 ...  \n",
              "Sexuality       object\n",
              "Ethnicity       object\n",
              "Dependents      object\n",
              "SurveyLength    object\n",
              "SurveyEase      object\n",
              "Length: 85, dtype: object"
            ]
          },
          "metadata": {},
          "execution_count": 32
        }
      ]
    },
    {
      "cell_type": "markdown",
      "metadata": {
        "id": "yRiA7im4fROZ"
      },
      "source": [
        "Print the mean age of the survey participants.\n"
      ]
    },
    {
      "cell_type": "code",
      "metadata": {
        "colab": {
          "base_uri": "https://localhost:8080/"
        },
        "id": "TRQCg13OfROb",
        "outputId": "35b668a3-0354-4e8c-d25d-ac89079daac6"
      },
      "source": [
        "# your code goes here\n",
        "mean_ages = df['Age'].mean()\n",
        "ages = df['Age']\n",
        "print ('ages \\n',ages,'\\n mean_ages ',mean_ages)"
      ],
      "execution_count": 39,
      "outputs": [
        {
          "output_type": "stream",
          "name": "stdout",
          "text": [
            "ages \n",
            " 0        22.0\n",
            "1        23.0\n",
            "2        28.0\n",
            "3        26.0\n",
            "4        29.0\n",
            "         ... \n",
            "11547    36.0\n",
            "11548    25.0\n",
            "11549    34.0\n",
            "11550    25.0\n",
            "11551    30.0\n",
            "Name: Age, Length: 11552, dtype: float64 \n",
            " mean_ages  30.77239449133718\n"
          ]
        }
      ]
    },
    {
      "cell_type": "markdown",
      "metadata": {
        "id": "20vd0AzmfROd"
      },
      "source": [
        "The dataset is the result of a world wide survey. Print how many unique countries are there in the Country column.\n"
      ]
    },
    {
      "cell_type": "code",
      "metadata": {
        "colab": {
          "base_uri": "https://localhost:8080/"
        },
        "id": "t9y1lHtJfROe",
        "outputId": "f93be039-3831-481f-ee5e-fc381579a6f0"
      },
      "source": [
        "country = []\n",
        "for count in df['Country']:\n",
        "    if count not in country:\n",
        "        country.append(count)\n",
        "    else:\n",
        "        pass\n",
        "print(len(country))\n",
        "print(country)"
      ],
      "execution_count": 40,
      "outputs": [
        {
          "output_type": "stream",
          "name": "stdout",
          "text": [
            "135\n",
            "['United States', 'New Zealand', 'United Kingdom', 'Australia', 'Brazil', 'Lithuania', 'Israel', 'South Africa', 'Czech Republic', 'Spain', 'Germany', 'Serbia', 'India', 'Sweden', 'China', 'France', 'Netherlands', 'Philippines', 'Ireland', 'Pakistan', 'Austria', 'Canada', 'Croatia', 'Italy', 'Russian Federation', 'Argentina', 'Romania', 'Iran', 'Hungary', 'Latvia', 'Hong Kong (S.A.R.)', 'United Arab Emirates', 'Poland', 'Portugal', 'Bulgaria', 'Nicaragua', 'Denmark', 'Japan', 'Guatemala', 'Bangladesh', 'Ukraine', 'Mexico', 'Egypt', 'Switzerland', 'Mauritius', 'South Korea', 'Slovenia', 'Estonia', 'Norway', 'Singapore', 'Republic of Moldova', 'Belgium', 'Nigeria', 'Turkey', 'Thailand', 'Mongolia', 'Chile', 'Malaysia', 'Georgia', 'Luxembourg', 'Dominican Republic', 'Cape Verde', 'Burundi', 'Finland', 'Greece', 'Colombia', 'Taiwan', 'Yemen', 'Indonesia', 'Belarus', 'Slovakia', 'Nepal', 'Kenya', 'Venezuela, Bolivarian Republic of...', 'Armenia', 'Panama', 'Lebanon', 'Kuwait', 'Algeria', \"Côte d'Ivoire\", 'Bosnia and Herzegovina', 'Brunei Darussalam', 'Costa Rica', 'Jordan', 'Zimbabwe', 'Ecuador', 'Albania', 'Azerbaijan', 'Other Country (Not Listed Above)', 'Uzbekistan', 'The former Yugoslav Republic of Macedonia', 'Sri Lanka', 'Ghana', 'Paraguay', 'Peru', 'Viet Nam', 'Malta', 'Rwanda', 'El Salvador', 'Uruguay', 'Tunisia', 'Bolivia', 'Honduras', 'Liechtenstein', 'Qatar', 'Cameroon', 'Turkmenistan', 'Kyrgyzstan', 'Somalia', 'Republic of Korea', 'Cuba', 'Montenegro', 'Monaco', 'Cyprus', 'Uganda', 'Senegal', 'Syrian Arab Republic', 'Morocco', 'Ethiopia', 'United Republic of Tanzania', 'Iceland', 'Swaziland', 'Congo, Republic of the...', 'Saudi Arabia', 'Afghanistan', 'Bahrain', 'Timor-Leste', 'Jamaica', 'Myanmar', 'Sudan', 'Libyan Arab Jamahiriya', 'Togo', 'Cambodia', 'Mozambique', 'Iraq']\n"
          ]
        }
      ]
    },
    {
      "cell_type": "markdown",
      "metadata": {
        "id": "gi6sTDWefROh"
      },
      "source": [
        "## Authors\n"
      ]
    },
    {
      "cell_type": "markdown",
      "metadata": {
        "id": "hfH23ejmfROi"
      },
      "source": [
        "Ramesh Sannareddy\n"
      ]
    },
    {
      "cell_type": "markdown",
      "metadata": {
        "id": "8CFPujYdfROk"
      },
      "source": [
        "### Other Contributors\n"
      ]
    },
    {
      "cell_type": "markdown",
      "metadata": {
        "id": "vnMsssEtfROl"
      },
      "source": [
        "Rav Ahuja\n"
      ]
    },
    {
      "cell_type": "markdown",
      "metadata": {
        "id": "dCZTPL_sfROr"
      },
      "source": [
        "## Change Log\n"
      ]
    },
    {
      "cell_type": "markdown",
      "metadata": {
        "id": "W4fY5SfefRPV"
      },
      "source": [
        "| Date (YYYY-MM-DD) | Version | Changed By        | Change Description                 |\n",
        "| ----------------- | ------- | ----------------- | ---------------------------------- |\n",
        "| 2020-10-17        | 0.1     | Ramesh Sannareddy | Created initial version of the lab |\n"
      ]
    },
    {
      "cell_type": "markdown",
      "metadata": {
        "id": "rmCchPI6fRPY"
      },
      "source": [
        "Copyright © 2020 IBM Corporation. This notebook and its source code are released under the terms of the [MIT License](https://cognitiveclass.ai/mit-license?utm_medium=Exinfluencer\\&utm_source=Exinfluencer\\&utm_content=000026UJ\\&utm_term=10006555\\&utm_id=NA-SkillsNetwork-Channel-SkillsNetworkCoursesIBMDA0321ENSkillsNetwork21426264-2021-01-01\\&cm_mmc=Email_Newsletter-\\_-Developer_Ed%2BTech-\\_-WW_WW-\\_-SkillsNetwork-Courses-IBM-DA0321EN-SkillsNetwork-21426264\\&cm_mmca1=000026UJ\\&cm_mmca2=10006555\\&cm_mmca3=M12345678\\&cvosrc=email.Newsletter.M12345678\\&cvo_campaign=000026UJ).\n"
      ]
    }
  ]
}